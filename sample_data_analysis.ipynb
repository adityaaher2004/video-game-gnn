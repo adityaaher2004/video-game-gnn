{
  "nbformat": 4,
  "nbformat_minor": 0,
  "metadata": {
    "colab": {
      "provenance": [],
      "authorship_tag": "ABX9TyNjedtBVZmnDe9Ko9hnBvTM",
      "include_colab_link": true
    },
    "kernelspec": {
      "name": "python3",
      "display_name": "Python 3"
    },
    "language_info": {
      "name": "python"
    }
  },
  "cells": [
    {
      "cell_type": "markdown",
      "metadata": {
        "id": "view-in-github",
        "colab_type": "text"
      },
      "source": [
        "<a href=\"https://colab.research.google.com/github/adityaaher2004/video-game-gnn/blob/main/sample_data_analysis.ipynb\" target=\"_parent\"><img src=\"https://colab.research.google.com/assets/colab-badge.svg\" alt=\"Open In Colab\"/></a>"
      ]
    },
    {
      "cell_type": "code",
      "execution_count": 12,
      "metadata": {
        "id": "cgfXANimJVeC",
        "colab": {
          "base_uri": "https://localhost:8080/"
        },
        "outputId": "af3524a5-4893-4465-9007-6a52da88157a"
      },
      "outputs": [
        {
          "output_type": "stream",
          "name": "stdout",
          "text": [
            "Total Genres =  441\n",
            "Total Occurrences =  584215\n"
          ]
        }
      ],
      "source": [
        "import json\n",
        "\n",
        "genre_occurrences = {}\n",
        "total_genres = 0\n",
        "total_occurrences = 0\n",
        "\n",
        "with open('games_metadata.json', 'r', encoding='utf-8') as file:\n",
        "    for line in file:\n",
        "        try:\n",
        "            data = json.loads(line)\n",
        "            tags = data[\"tags\"]\n",
        "            name = data[\"app_id\"]\n",
        "            for genre in tags:\n",
        "                if genre not in genre_occurrences:\n",
        "                    total_genres += 1\n",
        "                    genre_occurrences[genre] = 1\n",
        "                else:\n",
        "                    genre_occurrences[genre] += 1\n",
        "                total_occurrences += 1\n",
        "        except json.JSONDecodeError as e:\n",
        "            print(f\"Error decoding JSON: {e}\")\n",
        "\n",
        "print(f\"Total Genres = \", total_genres)\n",
        "print(f\"Total Occurrences = \", total_occurrences)\n"
      ]
    }
  ]
}